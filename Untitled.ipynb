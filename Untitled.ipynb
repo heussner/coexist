{
 "cells": [
  {
   "cell_type": "code",
   "execution_count": 1,
   "id": "c3b69b0f-a7c0-4c4a-be2b-b39bb5cef23b",
   "metadata": {},
   "outputs": [],
   "source": [
    "import coexist\n",
    "import pandas as pd\n",
    "from tifffile import imread\n",
    "import os"
   ]
  },
  {
   "cell_type": "code",
   "execution_count": 2,
   "id": "d5347cf5-c7fc-4889-8b95-d6be9c666170",
   "metadata": {},
   "outputs": [],
   "source": [
    "c = 'B3'\n",
    "target_path = '/home/groups/ChangLab/dataset/TMA_cell_track/result-Nuclear/'\n",
    "reference_path = '/home/groups/OMSAtlas/share/TMA_TNP_masks/TMA1_005/refined_masks/'\n",
    "shared_markers = ['DNA_1','CD3','aSMA','pRB','PanCK','CD45','Ki67','LaminABC']\n",
    "slide_1_table = pd.read_csv(f'/home/groups/ChangLab/heussner/tma-integration/data/nuc_cell_tables/{c}_tCyCIF_tumor_both.csv')\n",
    "slide_2_table = pd.read_csv(f'/home/groups/ChangLab/heussner/tma-integration/data/nuc_cell_tables/{c}_tCyCIF_immune_both.csv')\n",
    "slide_1 = imread(os.path.join(target_path,f'TMA_{c}_reg_img_s1.tif'))\n",
    "slide_2 = imread(os.path.join(reference_path,f'OHSU_TMA1_005-{c}_refinedMask_Nuclear.tiff'))"
   ]
  },
  {
   "cell_type": "code",
   "execution_count": 6,
   "id": "dbd4b459-61f7-4a7f-8bd7-0646a34ea5f7",
   "metadata": {},
   "outputs": [],
   "source": [
    "matcher = coexist.model.COEXIST(im1_mask=slide_1,\n",
    "                               im2_mask=slide_2,\n",
    "                               df1 = slide_1_table,\n",
    "                               df2 = slide_2_table,\n",
    "                               cellID_key = 'CellID',\n",
    "                               shared_markers=shared_markers,\n",
    "                               method='correlation',\n",
    "                               max_dist=8,\n",
    "                               thickness=5,\n",
    "                               mpp1=0.65,\n",
    "                               mpp2=0.65,\n",
    "                               diameter_key='MajorAxisLength',\n",
    "                               iter=1000000)"
   ]
  },
  {
   "cell_type": "code",
   "execution_count": 7,
   "id": "af3c26d7-d832-4fd6-9c37-5c2094a81fa2",
   "metadata": {},
   "outputs": [
    {
     "name": "stdout",
     "output_type": "stream",
     "text": [
      "Estimating adjacent section overlap\n",
      "Approximately 65.8% of cells overlap\n"
     ]
    }
   ],
   "source": [
    "matcher.estimate_overlap()"
   ]
  },
  {
   "cell_type": "code",
   "execution_count": 4,
   "id": "ac3d1628-078d-4f50-ab70-0c4bf447b1a0",
   "metadata": {},
   "outputs": [
    {
     "name": "stdout",
     "output_type": "stream",
     "text": [
      "Computing cost matrix\n",
      "Done preprocessing\n"
     ]
    }
   ],
   "source": [
    "matcher.preprocess_data()"
   ]
  },
  {
   "cell_type": "code",
   "execution_count": 5,
   "id": "cb13de9b-340f-42ad-a513-c78f78a0bfa2",
   "metadata": {},
   "outputs": [
    {
     "name": "stdout",
     "output_type": "stream",
     "text": [
      "Matching cells\n",
      "Removing low quality matches\n",
      "Matched 6073 cells of 12439 slide 1 cells and 12130 slide 2 cells, approximately 49.4% shared.\n"
     ]
    }
   ],
   "source": [
    "matcher.match_cells()"
   ]
  },
  {
   "cell_type": "code",
   "execution_count": 6,
   "id": "2a681747-9140-44d4-8ab1-1f72c898c39b",
   "metadata": {},
   "outputs": [
    {
     "name": "stdout",
     "output_type": "stream",
     "text": [
      "DNA_1: 0.53\n",
      "CD3: 0.71\n",
      "aSMA: 0.74\n",
      "pRB: 0.6\n",
      "PanCK: 0.9\n",
      "CD45: 0.37\n",
      "Ki67: 0.71\n",
      "LaminABC: 0.78\n"
     ]
    }
   ],
   "source": [
    "matcher.check_correlations()"
   ]
  },
  {
   "cell_type": "code",
   "execution_count": 13,
   "id": "38708147-b04c-4c31-b162-1fdb10f7c7b9",
   "metadata": {},
   "outputs": [
    {
     "data": {
      "text/html": [
       "<div>\n",
       "<style scoped>\n",
       "    .dataframe tbody tr th:only-of-type {\n",
       "        vertical-align: middle;\n",
       "    }\n",
       "\n",
       "    .dataframe tbody tr th {\n",
       "        vertical-align: top;\n",
       "    }\n",
       "\n",
       "    .dataframe thead th {\n",
       "        text-align: right;\n",
       "    }\n",
       "</style>\n",
       "<table border=\"1\" class=\"dataframe\">\n",
       "  <thead>\n",
       "    <tr style=\"text-align: right;\">\n",
       "      <th></th>\n",
       "      <th>im1_cellID</th>\n",
       "      <th>im2_cellID</th>\n",
       "      <th>score</th>\n",
       "    </tr>\n",
       "  </thead>\n",
       "  <tbody>\n",
       "    <tr>\n",
       "      <th>4</th>\n",
       "      <td>4</td>\n",
       "      <td>7</td>\n",
       "      <td>0.309524</td>\n",
       "    </tr>\n",
       "    <tr>\n",
       "      <th>9</th>\n",
       "      <td>2</td>\n",
       "      <td>12</td>\n",
       "      <td>0.690476</td>\n",
       "    </tr>\n",
       "    <tr>\n",
       "      <th>13</th>\n",
       "      <td>7</td>\n",
       "      <td>16</td>\n",
       "      <td>0.428571</td>\n",
       "    </tr>\n",
       "    <tr>\n",
       "      <th>22</th>\n",
       "      <td>6</td>\n",
       "      <td>25</td>\n",
       "      <td>0.095238</td>\n",
       "    </tr>\n",
       "    <tr>\n",
       "      <th>32</th>\n",
       "      <td>13</td>\n",
       "      <td>35</td>\n",
       "      <td>0.214286</td>\n",
       "    </tr>\n",
       "    <tr>\n",
       "      <th>...</th>\n",
       "      <td>...</td>\n",
       "      <td>...</td>\n",
       "      <td>...</td>\n",
       "    </tr>\n",
       "    <tr>\n",
       "      <th>12120</th>\n",
       "      <td>1995</td>\n",
       "      <td>12347</td>\n",
       "      <td>0.642857</td>\n",
       "    </tr>\n",
       "    <tr>\n",
       "      <th>12122</th>\n",
       "      <td>3549</td>\n",
       "      <td>12349</td>\n",
       "      <td>0.738095</td>\n",
       "    </tr>\n",
       "    <tr>\n",
       "      <th>12125</th>\n",
       "      <td>6733</td>\n",
       "      <td>12352</td>\n",
       "      <td>0.095238</td>\n",
       "    </tr>\n",
       "    <tr>\n",
       "      <th>12126</th>\n",
       "      <td>7203</td>\n",
       "      <td>12353</td>\n",
       "      <td>0.285714</td>\n",
       "    </tr>\n",
       "    <tr>\n",
       "      <th>12129</th>\n",
       "      <td>7625</td>\n",
       "      <td>12356</td>\n",
       "      <td>0.047619</td>\n",
       "    </tr>\n",
       "  </tbody>\n",
       "</table>\n",
       "<p>8221 rows × 3 columns</p>\n",
       "</div>"
      ],
      "text/plain": [
       "       im1_cellID  im2_cellID     score\n",
       "4               4           7  0.309524\n",
       "9               2          12  0.690476\n",
       "13              7          16  0.428571\n",
       "22              6          25  0.095238\n",
       "32             13          35  0.214286\n",
       "...           ...         ...       ...\n",
       "12120        1995       12347  0.642857\n",
       "12122        3549       12349  0.738095\n",
       "12125        6733       12352  0.095238\n",
       "12126        7203       12353  0.285714\n",
       "12129        7625       12356  0.047619\n",
       "\n",
       "[8221 rows x 3 columns]"
      ]
     },
     "execution_count": 13,
     "metadata": {},
     "output_type": "execute_result"
    }
   ],
   "source": [
    "matcher.match_book"
   ]
  },
  {
   "cell_type": "code",
   "execution_count": 8,
   "id": "3684bf75-0721-4f94-a829-8b6869f64985",
   "metadata": {},
   "outputs": [],
   "source": [
    "from skimage.measure import regionprops_table\n",
    "from scipy.optimize import linear_sum_assignment\n",
    "import pandas as pd\n",
    "import numpy as np\n",
    "import pandas as pd\n",
    "from tifffile import imread\n",
    "import os\n",
    "import numpy as np\n",
    "import pandas as pd\n",
    "from scipy.stats import zscore, spearmanr\n",
    "from sklearn.metrics import pairwise_distances"
   ]
  },
  {
   "cell_type": "code",
   "execution_count": 5,
   "id": "e75cb83a-d3e7-4a07-bbba-58bb88d40921",
   "metadata": {},
   "outputs": [],
   "source": [
    "def match_cells(im1_mask, im2_mask, pairwise_distances):\n",
    "    \"\"\"\n",
    "    Description:\n",
    "        - Match target cells to reference cells\n",
    "    Parameters:\n",
    "        - im1_mask: uint array, Cell mask for target image\n",
    "        - im2_mask: uint array, Cell mask for reference image\n",
    "        - pairwise_distances: float array, Target x reference pairwise correlations\n",
    "    Return:\n",
    "    - match_table: pd.DataFrame, target cell IDs tracked to the ordered list of reference cell IDs\n",
    "    \"\"\"\n",
    "    props = ['label','coords','centroid','mean_intensity']\n",
    "    im1_frame = pd.DataFrame(regionprops_table(im1_mask, im1_mask, properties=props)) # target regionprops\n",
    "    im2_frame = pd.DataFrame(regionprops_table(im2_mask, im2_mask, properties=props)) # reference regionprops\n",
    "    \n",
    "    cellID = np.zeros(len(im2_frame)) # cell ID map from reference to target\n",
    "    scores = np.ones(len(im2_frame))*2\n",
    "    for i in range(len(im2_frame)): # for each region in reference\n",
    "    \n",
    "        coords = im2_frame['coords'][i].squeeze()\n",
    "        x = im1_mask[tuple(coords.T)] # get target where reference region is\n",
    "    \n",
    "        ux, n = np.unique(x, return_counts=True) # get counts of unique pixel values of target in reference region\n",
    "        area = np.sum(n)\n",
    "        \n",
    "        if ux[0] == 0: # remove background pixels from unique list\n",
    "            ux = ux[1:]\n",
    "            n = n[1:]\n",
    "        if (len(n) != 0):\n",
    "            odist1 = np.zeros(ux.shape)\n",
    "            cdist1 = np.zeros(ux.shape)\n",
    "            edist1 = np.zeros(ux.shape)\n",
    "            \n",
    "            for j in range(len(ux)): # if there are cells present\n",
    "                cdist1[j] = pairwise_distances[i, im1_frame[im1_frame['label'] == ux[j]].index]\n",
    "                odist1[j] = 2*(1-n[j]/area)\n",
    "                edist1[j] = ((im2_frame['centroid-0'].iloc[i] - im1_frame[im1_frame['label'] == ux[j]]['centroid-0'].values[0])**2 + (im2_frame['centroid-1'].iloc[i] - im1_frame[im1_frame['label'] == ux[j]]['centroid-1'].values[0])**2)**.5\n",
    "            \n",
    "            if len(cdist1[np.where(cdist1==min(cdist1))]) > 1:\n",
    "                cellID[i] = ux[edist1==min(edist1[np.where(cdist1==min(cdist1))])]\n",
    "                scores[i] = cdist1[np.where(ux==cellID[i])]\n",
    "\n",
    "            else:\n",
    "                cellID[i] = ux[np.where(cdist1==min(cdist1))]\n",
    "                scores[i] = cdist1[np.where(ux==cellID[i])]\n",
    "        else:\n",
    "            cellID[i] = 0\n",
    "    \n",
    "        # checking cyclic consistency\n",
    "        if cellID[i] != 0:\n",
    "            idx = im1_frame['coords'][im1_frame['label'] == cellID[i]].squeeze() # get target coords in reference cell id\n",
    "            y = im2_mask[tuple(idx.T)].copy() # get reference array where target cell is\n",
    "            uy, m = np.unique(y, return_counts=True)\n",
    "            area2 = np.sum(m)\n",
    "            if uy[0] == 0: # remove background pixels from unique list\n",
    "                uy = uy[1:]\n",
    "                m = m[1:]\n",
    "            \n",
    "            odist2 = np.ones(uy.shape)\n",
    "            cdist2 = np.ones(uy.shape)\n",
    "            edist2 = np.zeros(uy.shape)\n",
    "            for j in range(len(uy)):\n",
    "                cdist2[j] = pairwise_distances[im2_frame[im2_frame['label'] == uy[j]].index,im1_frame[im1_frame['label'] == cellID[i]].index][0]\n",
    "                odist2[j] = 2*(1-m[j]/area2)\n",
    "                edist2[j] =((im2_frame[im2_frame['label']==uy[j]]['centroid-0'].values[0]-im1_frame[im1_frame['label']==cellID[i]]['centroid-0'].values[0])**2 + (im2_frame[im2_frame['label']==uy[j]]['centroid-1'].values[0]-im1_frame[im1_frame['label']==cellID[i]]['centroid-1'].values[0])**2)**0.5\n",
    "            \n",
    "            if len(cdist2[np.where(cdist2==min(cdist2))]) > 1:\n",
    "                if uy[edist2==min(edist2[np.where(cdist2==min(cdist2))])] != im2_frame[\"label\"][i]:\n",
    "                    cellID[i] = 0\n",
    "                    scores[i] = 2\n",
    "\n",
    "            if (len(cdist2[np.where(cdist2==min(cdist2))]) == 1) and (uy[np.where(cdist2==min(cdist2))] != im2_frame[\"label\"][i]):\n",
    "                cellID[i] = 0\n",
    "                scores[i] = 2\n",
    "    \n",
    "    match_table = pd.DataFrame(data={'im1_cell':cellID,'im2_cell':list(im2_frame['label']),'score':scores})\n",
    "    match_table = match_table[match_table['im1_cell']!=0]\n",
    "    return match_table"
   ]
  },
  {
   "cell_type": "code",
   "execution_count": 9,
   "id": "6610bab9-1fec-4c51-ae7b-4f04468443a1",
   "metadata": {},
   "outputs": [],
   "source": [
    "c = 'B3'\n",
    "target_path = '/home/groups/ChangLab/dataset/TMA_cell_track/result-Nuclear/'\n",
    "reference_path = '/home/groups/OMSAtlas/share/TMA_TNP_masks/TMA1_005/refined_masks/'\n",
    "shared_markers = ['DNA_1','CD3','aSMA','pRB','PanCK','CD45','Ki67','LaminABC']\n",
    "slide_1_table = pd.read_csv(f'/home/groups/ChangLab/heussner/tma-integration/data/nuc_cell_tables/{c}_tCyCIF_tumor_both.csv')\n",
    "slide_2_table = pd.read_csv(f'/home/groups/ChangLab/heussner/tma-integration/data/nuc_cell_tables/{c}_tCyCIF_immune_both.csv')\n",
    "slide_1_table['cellID'] = slide_1_table['CellID']\n",
    "slide_2_table['cellID'] = slide_2_table['CellID']\n",
    "slide_1 = imread(os.path.join(target_path,f'TMA_{c}_reg_img_s1.tif'))\n",
    "slide_2 = imread(os.path.join(reference_path,f'OHSU_TMA1_005-{c}_refinedMask_Nuclear.tiff'))"
   ]
  },
  {
   "cell_type": "code",
   "execution_count": 12,
   "id": "a8c688db-ce92-4d10-8dec-1fa94e39f9ad",
   "metadata": {},
   "outputs": [
    {
     "name": "stdout",
     "output_type": "stream",
     "text": [
      "Computing cost matrix\n"
     ]
    }
   ],
   "source": [
    "df1 = slide_1_table.copy()\n",
    "df1_count = len(df1)\n",
    "df2 = slide_2_table.copy()\n",
    "df2_count = len(df2)\n",
    "\n",
    "arr1_shared = df1[shared_markers]\n",
    "arr2_shared = df2[shared_markers]\n",
    "arr1_shared = np.array(zscore(arr1_shared, axis=0))\n",
    "arr2_shared = np.array(zscore(arr2_shared, axis=0))\n",
    "print('Computing cost matrix')\n",
    "cost_matrix = 1 - spearmanr(arr1_shared,arr2_shared,axis=1)[0][0:df1_count,df1_count:df1_count+df2_count]"
   ]
  },
  {
   "cell_type": "code",
   "execution_count": 13,
   "id": "57f01e52-374d-4ab2-a56c-01c0df972caa",
   "metadata": {},
   "outputs": [],
   "source": [
    "\"\"\"\n",
    "Description:\n",
    "    - Match target cells to reference cells\n",
    "Parameters:\n",
    "    - im1_mask: uint array, Cell mask for target image\n",
    "    - im2_mask: uint array, Cell mask for reference image\n",
    "    - pairwise_distances: float array, Target x reference pairwise correlations\n",
    "Return:\n",
    "- match_table: pd.DataFrame, target cell IDs tracked to the ordered list of reference cell IDs\n",
    "\"\"\"\n",
    "props = ['label','coords','centroid','mean_intensity']\n",
    "im1_frame = pd.DataFrame(regionprops_table(im1_mask, im1_mask, properties=props)) # reference regionprops\n",
    "im2_frame = pd.DataFrame(regionprops_table(im2_mask, im2_mask, properties=props)) # target regionprops\n",
    "\n",
    "cellID = np.zeros(len(im1_frame)) # cell ID map from reference to target\n",
    "scores = np.ones(len(im1_frame))*2\n",
    "for i in range(len(im1_frame)): # for each region in reference\n",
    "\n",
    "    coords = im1_frame['coords'][i].squeeze()\n",
    "    x = im2_mask[tuple(coords.T)] # get target where reference region is\n",
    "\n",
    "    ux, n = np.unique(x, return_counts=True) # get counts of unique pixel values of target in reference region\n",
    "    area = np.sum(n)\n",
    "    \n",
    "    if ux[0] == 0: # remove background pixels from unique list\n",
    "        ux = ux[1:]\n",
    "        n = n[1:]\n",
    "    if (len(n) != 0):\n",
    "        odist1 = np.zeros(ux.shape)\n",
    "        cdist1 = np.zeros(ux.shape)\n",
    "        edist1 = np.zeros(ux.shape)\n",
    "        \n",
    "        for j in range(len(ux)): # if there are cells present\n",
    "            cdist1[j] = pairwise_distances[i, im2_frame[im2_frame['label'] == ux[j]].index]\n",
    "            odist1[j] = 2*(1-n[j]/area)\n",
    "            edist1[j] = ((im1_frame['centroid-0'].iloc[i] - im2_frame[im2_frame['label'] == ux[j]]['centroid-0'].values[0])**2 + (im1_frame['centroid-1'].iloc[i] - im2_frame[im2_frame['label'] == ux[j]]['centroid-1'].values[0])**2)**.5\n",
    "        \n",
    "        if len(cdist1[np.where(cdist1==min(cdist1))]) > 1:\n",
    "            cellID[i] = ux[edist1==min(edist1[np.where(cdist1==min(cdist1))])]\n",
    "            scores[i] = cdist1[np.where(ux==cellID[i])]\n",
    "\n",
    "        else:\n",
    "            cellID[i] = ux[np.where(cdist1==min(cdist1))]\n",
    "            scores[i] = cdist1[np.where(ux==cellID[i])]\n",
    "    else:\n",
    "        cellID[i] = 0\n",
    "\n",
    "    # checking cyclic consistency\n",
    "    if cellID[i] != 0:\n",
    "        idx = im2_frame['coords'][im2_frame['label'] == cellID[i]].squeeze() # get target coords in reference cell id\n",
    "        y = im1_mask[tuple(idx.T)].copy() # get reference array where target cell is\n",
    "        uy, m = np.unique(y, return_counts=True)\n",
    "        area2 = np.sum(m)\n",
    "        if uy[0] == 0: # remove background pixels from unique list\n",
    "            uy = uy[1:]\n",
    "            m = m[1:]\n",
    "        \n",
    "        odist2 = np.ones(uy.shape)\n",
    "        cdist2 = np.ones(uy.shape)\n",
    "        edist2 = np.zeros(uy.shape)\n",
    "        for j in range(len(uy)):\n",
    "            cdist2[j] = pairwise_distances[im1_frame[im1_frame['label'] == uy[j]].index,im2_frame[im2_frame['label'] == cellID[i]].index][0]\n",
    "            odist2[j] = 2*(1-m[j]/area2)\n",
    "            edist2[j] =((im1_frame[im1_frame['label']==uy[j]]['centroid-0'].values[0]-im2_frame[im2_frame['label']==cellID[i]]['centroid-0'].values[0])**2 + (im1_frame[im1_frame['label']==uy[j]]['centroid-1'].values[0]-im2_frame[im2_frame['label']==cellID[i]]['centroid-1'].values[0])**2)**0.5\n",
    "        \n",
    "        if len(cdist2[np.where(cdist2==min(cdist2))]) > 1:\n",
    "            if uy[edist2==min(edist2[np.where(cdist2==min(cdist2))])] != im1_frame[\"label\"][i]:\n",
    "                cellID[i] = 0\n",
    "                scores[i] = 2\n",
    "\n",
    "        if (len(cdist2[np.where(cdist2==min(cdist2))]) == 1) and (uy[np.where(cdist2==min(cdist2))] != im1_frame[\"label\"][i]):\n",
    "            cellID[i] = 0\n",
    "            scores[i] = 2\n",
    "\n",
    "match_table = pd.DataFrame(data={'im1_cell':list(im1_frame['label']),'im2_cell':cellID.astype(int),'score':scores})\n",
    "match_table = match_table[match_table['im2_cell']!=0]"
   ]
  },
  {
   "cell_type": "code",
   "execution_count": 21,
   "id": "57bc56d3-a85b-41e1-928f-bde80e2c437f",
   "metadata": {},
   "outputs": [
    {
     "data": {
      "text/plain": [
       "array([ 0, 12,  7, ...,  0,  0,  0])"
      ]
     },
     "execution_count": 21,
     "metadata": {},
     "output_type": "execute_result"
    }
   ],
   "source": [
    "cellID.astype(int)"
   ]
  },
  {
   "cell_type": "code",
   "execution_count": 22,
   "id": "7a99f3b6-0b75-401e-bce2-73580fa0a0c3",
   "metadata": {},
   "outputs": [
    {
     "data": {
      "text/plain": [
       "array([ 0., 12.,  7., ...,  0.,  0.,  0.])"
      ]
     },
     "execution_count": 22,
     "metadata": {},
     "output_type": "execute_result"
    }
   ],
   "source": [
    "cellID"
   ]
  },
  {
   "cell_type": "code",
   "execution_count": null,
   "id": "abbbbb80-226b-463b-91d0-2f0fff320baf",
   "metadata": {},
   "outputs": [],
   "source": []
  }
 ],
 "metadata": {
  "kernelspec": {
   "display_name": "Python 3 (ipykernel)",
   "language": "python",
   "name": "python3"
  },
  "language_info": {
   "codemirror_mode": {
    "name": "ipython",
    "version": 3
   },
   "file_extension": ".py",
   "mimetype": "text/x-python",
   "name": "python",
   "nbconvert_exporter": "python",
   "pygments_lexer": "ipython3",
   "version": "3.8.18"
  }
 },
 "nbformat": 4,
 "nbformat_minor": 5
}
