{
 "cells": [
  {
   "cell_type": "code",
   "execution_count": 1,
   "id": "fbc635fa-7a10-4e33-a6db-a15251316018",
   "metadata": {},
   "outputs": [],
   "source": [
    "import math\n",
    "import numpy as np\n",
    "from matplotlib import pyplot as plt\n",
    "import pandas as pd\n",
    "import os\n",
    "from tqdm import tqdm"
   ]
  },
  {
   "cell_type": "code",
   "execution_count": null,
   "id": "31bb7b13-6d48-448f-9fa8-c77287a39c52",
   "metadata": {},
   "outputs": [],
   "source": [
    "def simulate(iter_, mu, sigma, xlims, width):\n",
    "    \"\"\"\n",
    "    Description:\n",
    "    Simulate how many cells drawn from normal (mu, sigma) bounded by xlims are intact within a section of width\n",
    "    Parameters:\n",
    "        - iter_: int, iterations\n",
    "        - mu: float, cell population mean diameter (um)\n",
    "        - sigma: float, cell population standard devation diameter (um)\n",
    "        - xlims: tuple, min and max bounds of x (um)\n",
    "        - width: float, section width (um)\n",
    "    Returns:\n",
    "        - edge: int, number of cells partially contained in section\n",
    "        - intact: int, number of cells fully contained in section\n",
    "    \"\"\"\n",
    "    intact = 0\n",
    "    edge = 0\n",
    "    for i in range(iter_):\n",
    "        r = np.random.normal(mu, sigma)/2\n",
    "        x = np.random.uniform(low=xlims[0],high = xlims[1])\n",
    "        min_ = x-r\n",
    "        max_ = x+r\n",
    "        if (min_ < 0 <max_) or (min_ < width < max_) or ((min_ < 0) and (max_ > width)): # edge case\n",
    "            edge += 1\n",
    "        elif (min_ > 0) and (max_ < width): # intact case\n",
    "            intact += 1\n",
    "        else:\n",
    "            continue\n",
    "    return intact,edge"
   ]
  },
  {
   "cell_type": "code",
   "execution_count": null,
   "id": "9949d730-0c6e-476d-8360-a927229b899d",
   "metadata": {},
   "outputs": [],
   "source": [
    "# 90% nuclei not intact at 5um\n",
    "intact, edge = simulate(1000000,5,2.7,[-30,35],5)\n",
    "print(edge/(intact+edge)*100)"
   ]
  },
  {
   "cell_type": "code",
   "execution_count": null,
   "id": "3452bf2f-0fca-4e9d-bbe5-e4f8dc69079c",
   "metadata": {},
   "outputs": [],
   "source": [
    "# 60-80% of nuclei are intact at 35um\n",
    "intact, edge = simulate(1000000,5,2.7,[-90,90],30)\n",
    "print(intact/(intact+edge)*100)"
   ]
  },
  {
   "cell_type": "code",
   "execution_count": null,
   "id": "ff84d9e7-5a1e-4463-86ae-3d90762b97f8",
   "metadata": {},
   "outputs": [],
   "source": [
    "# 60-80% of nuclei are intact at 35um\n",
    "intact, edge = simulate(1000000,5,2.7,[-90,90],40)\n",
    "print(intact/(intact+edge)*100)"
   ]
  },
  {
   "cell_type": "code",
   "execution_count": null,
   "id": "a40e443e-6024-4d74-9c7d-7cbdc28943b6",
   "metadata": {},
   "outputs": [],
   "source": []
  }
 ],
 "metadata": {
  "kernelspec": {
   "display_name": "Python 3 (ipykernel)",
   "language": "python",
   "name": "python3"
  },
  "language_info": {
   "codemirror_mode": {
    "name": "ipython",
    "version": 3
   },
   "file_extension": ".py",
   "mimetype": "text/x-python",
   "name": "python",
   "nbconvert_exporter": "python",
   "pygments_lexer": "ipython3",
   "version": "3.8.18"
  }
 },
 "nbformat": 4,
 "nbformat_minor": 5
}
