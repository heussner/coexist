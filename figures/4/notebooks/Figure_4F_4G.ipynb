{
 "cells": [
  {
   "cell_type": "code",
   "execution_count": null,
   "metadata": {},
   "outputs": [],
   "source": [
    "#### ---------------\n",
    "#### Use scanpy.yml environment\n",
    "#### ---------------\n",
    "\n",
    "import os\n",
    "import sys \n",
    "import warnings\n",
    "\n",
    "import numpy as np \n",
    "import pandas as pd \n",
    "import anndata as ad\n",
    "import scanpy as sc\n",
    "\n",
    "import seaborn as sns\n",
    "import matplotlib\n",
    "import matplotlib.pyplot as plt\n",
    "from matplotlib.lines import Line2D\n",
    "\n",
    "from scipy import stats \n",
    "from sklearn.neighbors import KDTree\n",
    "from sklearn.cluster import KMeans\n",
    "from sklearn.preprocessing import StandardScaler"
   ]
  },
  {
   "cell_type": "code",
   "execution_count": null,
   "metadata": {},
   "outputs": [],
   "source": [
    "def count_neighbors_by_type(df, radius, x, y, cell_type_labels):\n",
    "\n",
    "    \"\"\"Generate neighborhood matrix within radius. subset query cells of interest\"\"\"\n",
    "\n",
    "    print(f\"Finding {cell_type_labels} neighbors in {radius}um\")\n",
    "\n",
    "    phenotypes = df[cell_type_labels]\n",
    "\n",
    "    # Create tree for queries, get neighbors \n",
    "    cell_coords = df[[x, y]]\n",
    "    kdt = KDTree(cell_coords)\n",
    "    neighbors = kdt.query_radius(cell_coords, r=radius)\n",
    "\n",
    "    # Remove the query cell from the neighbors list, which is the index of the neighbors list\n",
    "    neighbors = [n[n != i] for i, n in enumerate(neighbors)]\n",
    "\n",
    "    # Count phenotypes in neighbors\n",
    "    def count_phenotypes(n):\n",
    "        p, c = np.unique(phenotypes[n], return_counts=True)\n",
    "        return dict(zip(p, c))\n",
    "\n",
    "    neighbor_matrix = np.array(list(map(count_phenotypes, neighbors)))\n",
    "    \n",
    "    # Create a temp dataframe with all neighbors data and total neighbors\n",
    "    neighbor_df = pd.DataFrame(list(neighbor_matrix)).fillna(0)\n",
    "    neighbor_df.columns = [\"%s\" % n for n in neighbor_df.columns]\n",
    "    neighbor_df['total_neighbors'] = neighbor_df.sum(axis=1)\n",
    "    neighbor_df['query_cell_type'] = list(phenotypes)\n",
    "    \n",
    "    return neighbor_df"
   ]
  },
  {
   "cell_type": "code",
   "execution_count": null,
   "metadata": {},
   "outputs": [],
   "source": [
    "immune = pd.read_csv('data/E06_immune_label_propagated_spatial.csv')\n",
    "tumor = pd.read_csv('data/E06_tumor_label_propagated_spatial.csv')\n",
    "tracked = pd.read_csv('data/E06_tracked_indiv_leiden.csv')"
   ]
  },
  {
   "cell_type": "code",
   "execution_count": null,
   "metadata": {},
   "outputs": [],
   "source": [
    "RADIUS = 30 #microns \n",
    "\n",
    "panels = {'immune' : immune, 'tumor' : tumor}\n",
    "\n",
    "ndf_matrices = {}\n",
    "for panel in panels:\n",
    "\n",
    "    df = panels[panel]\n",
    "\n",
    "    # convert X an Y centroids from px to um \n",
    "    df['x_um'] = df['x'] * 0.65\n",
    "    df['y_um'] = df['y'] * 0.65\n",
    "\n",
    "    # generate the neighborhood matrix \n",
    "    ndf_matrices[panel] = count_neighbors_by_type(\n",
    "        df, \n",
    "        radius = RADIUS, \n",
    "        x = 'x_um', \n",
    "        y = 'y_um', \n",
    "        cell_type_labels = 'cross_cluster')\n",
    "\n",
    "    # subset the neighborhood matrix to query cells only and merge with tracked CellID \n",
    "    ndf_matrices[panel][f'{panel}_CellID'] = list(panels[panel]['CellID'])\n",
    "    ndf_matrices[panel] = pd.merge(\n",
    "        ndf_matrices[panel], \n",
    "        tracked[[x for x in list(tracked.columns) if 'CellID' in x]], \n",
    "        on = f'{panel}_CellID')\n",
    "\n",
    "    ndf_matrices[panel]['panel'] = panel"
   ]
  },
  {
   "cell_type": "code",
   "execution_count": null,
   "metadata": {},
   "outputs": [],
   "source": [
    "# concatenate panels after generating counts matrices\n",
    "ndf_matrix = pd.concat(ndf_matrices.values(), ignore_index=True)"
   ]
  },
  {
   "cell_type": "code",
   "execution_count": null,
   "metadata": {},
   "outputs": [],
   "source": [
    "# subset df to only counts columns\n",
    "obs_cols = ['total_neighbors', 'query_cell_type', 'immune_CellID', 'tumor_CellID', 'panel']\n",
    "ndf_obs = ndf_matrix[obs_cols]\n",
    "ndf_matrix = ndf_matrix.drop(obs_cols, axis = 1)"
   ]
  },
  {
   "cell_type": "code",
   "execution_count": null,
   "metadata": {},
   "outputs": [],
   "source": [
    "# compute neighborhood percentages \n",
    "ndf_matrix = ndf_matrix.div(ndf_matrix.sum(axis = 1), axis = 0)"
   ]
  },
  {
   "cell_type": "code",
   "execution_count": null,
   "metadata": {},
   "outputs": [],
   "source": [
    "# sanity check\n",
    "ndf_matrix.sum(axis = 1)"
   ]
  },
  {
   "cell_type": "code",
   "execution_count": null,
   "metadata": {},
   "outputs": [],
   "source": [
    "# run kmeans at different values of K to determine which to proceed with \n",
    "distortions = []\n",
    "K = range(5,50,5)\n",
    "for k in K:\n",
    "    kmeanModel = KMeans(n_clusters=k)\n",
    "    kmeanModel.fit(ndf_matrix)\n",
    "    distortions.append(kmeanModel.inertia_)"
   ]
  },
  {
   "cell_type": "code",
   "execution_count": null,
   "metadata": {},
   "outputs": [],
   "source": [
    "# plot distortion by K \n",
    "fig,ax = plt.subplots()\n",
    "sns.lineplot(x = K, y = distortions, ax = ax)\n",
    "ax.set_xlabel('Number of clusters (k)')\n",
    "ax.set_ylabel('Distortion')\n",
    "fig.show()\n",
    "fig.set_facecolor('white')\n",
    "# plt.savefig('E06_RCN_elbow.png', dpi = 500)"
   ]
  },
  {
   "cell_type": "code",
   "execution_count": null,
   "metadata": {},
   "outputs": [],
   "source": [
    "# K selected by elbow plot \n",
    "k_selected = 15"
   ]
  },
  {
   "cell_type": "code",
   "execution_count": null,
   "metadata": {},
   "outputs": [],
   "source": [
    "# final clustering using selected K \n",
    "cluster = KMeans(n_clusters = k_selected, random_state = 20)\n",
    "cluster.fit_predict(ndf_matrix)\n",
    "\n",
    "# add the cluster labels to the original neighbor df that still has other metadata columns \n",
    "ndf_matrix['kmeans'] = cluster.labels_\n",
    "ndf_matrix = pd.concat([ndf_matrix, ndf_obs], axis = 1)"
   ]
  },
  {
   "cell_type": "code",
   "execution_count": null,
   "metadata": {},
   "outputs": [],
   "source": [
    "# which kmeans clusters are each panel enriched for? \n",
    "kmeans_counts = ndf_matrix[['panel','kmeans']].groupby('panel').value_counts().reset_index()\n",
    "kmeans_counts.columns = ['panel','kmeans','count']\n",
    "kmeans_counts['kmeans'] = kmeans_counts['kmeans'].astype('category')\n",
    "kmeans_counts['slide'] = np.where(kmeans_counts['panel'] == 'immune', ' Slide 1', 'Slide 2')"
   ]
  },
  {
   "cell_type": "code",
   "execution_count": null,
   "metadata": {},
   "outputs": [],
   "source": [
    "# mean cell type proportions per RCN \n",
    "kmeans_composition = ndf_matrix.drop(obs_cols, axis = 1).groupby('kmeans').mean()"
   ]
  },
  {
   "cell_type": "code",
   "execution_count": null,
   "metadata": {},
   "outputs": [],
   "source": [
    "g = sns.clustermap(\n",
    "    kmeans_composition, \n",
    "    cmap = \"Spectral_r\", \n",
    "    linecolor = 'white', \n",
    "    linewidth = 2, \n",
    "    row_cluster=True, \n",
    "    col_cluster=True,\n",
    "    vmax = 0.6, \n",
    "    cbar_kws = {'label' : 'Proportion'})\n",
    "\n",
    "g.ax_heatmap.set_ylabel('')\n",
    "g.fig.set_facecolor('white')\n",
    "\n",
    "g.fig.subplots_adjust(right=0.6)\n",
    "ax2 = g.fig.add_axes([0.61, 0.22, 0.2, 0.61])\n",
    "\n",
    "# grab the ordering of RCNs determined by hierch. clustering to reorder barplot axis \n",
    "rcn_ax_order = [x.get_text() for x in g.ax_heatmap.get_yticklabels()]\n",
    "\n",
    "sns.barplot(\n",
    "    y = kmeans_counts['kmeans'].astype(str), \n",
    "    x = kmeans_counts['count'], \n",
    "    hue = kmeans_counts['slide'], \n",
    "    orient='horizontal',\n",
    "    order = rcn_ax_order,\n",
    "    ax = ax2\n",
    ")\n",
    "\n",
    "ax2.yaxis.tick_right()\n",
    "ax2.yaxis.set_label_position(\"right\")\n",
    "ax2.set_ylabel('RCN')\n",
    "ax2.set_xlabel('Anchor cell count')\n",
    "\n",
    "g.ax_heatmap.get_yaxis().set_ticks([])\n",
    "g.cax.set_aspect(10)\n",
    "\n",
    "legend_elements = [matplotlib.patches.Patch(facecolor='#1f77b4', edgecolor='#1f77b4', label='Slide 1'),\n",
    "                    matplotlib.patches.Patch(facecolor='#ff7f0e', edgecolor='#ff7f0e', label='Slide 2')]\n",
    "\n",
    "ax2.legend(handles=legend_elements, loc='upper left', bbox_to_anchor = (0.2,1.1))\n",
    "\n",
    "plt.savefig('Figure_4F.png', dpi = 500)"
   ]
  },
  {
   "cell_type": "markdown",
   "metadata": {},
   "source": [
    "### Spatial plots of RCN 7"
   ]
  },
  {
   "cell_type": "code",
   "execution_count": null,
   "metadata": {},
   "outputs": [],
   "source": [
    "tumor_ndf_spatial = pd.merge(\n",
    "    ndf_matrix[ndf_matrix['panel'] == 'tumor'],\n",
    "    tumor[['CellID','x','y']],\n",
    "    left_on = 'tumor_CellID',\n",
    "    right_on = 'CellID')\n",
    "\n",
    "tumor_ndf_spatial['kmeans'] = tumor_ndf_spatial['kmeans'].astype('category')\n",
    "\n",
    "immune_ndf_spatial = pd.merge(\n",
    "    ndf_matrix[ndf_matrix['panel'] == 'immune'],\n",
    "    immune[['CellID','x','y']],\n",
    "    left_on = 'immune_CellID',\n",
    "    right_on = 'CellID')\n",
    "\n",
    "immune_ndf_spatial['kmeans'] = immune_ndf_spatial['kmeans'].astype('category')"
   ]
  },
  {
   "cell_type": "code",
   "execution_count": null,
   "metadata": {},
   "outputs": [],
   "source": [
    "plt.style.use(\"dark_background\")\n",
    "fig,axs = plt.subplots(ncols = 2)\n",
    "\n",
    "# plot immune spatial scatterplot\n",
    "sns.scatterplot(\n",
    "    x = immune_ndf_spatial['y'], \n",
    "    y = immune_ndf_spatial['x'], \n",
    "    color = 'grey',\n",
    "    linewidth = 0,\n",
    "    s = 2,\n",
    "    ax = axs[0])\n",
    "\n",
    "sns.scatterplot(\n",
    "    x = immune_ndf_spatial[immune_ndf_spatial['kmeans'].astype(str) == '7']['y'], \n",
    "    y = immune_ndf_spatial[immune_ndf_spatial['kmeans'].astype(str) == '7']['x'], \n",
    "    color = 'orange',\n",
    "    linewidth = 0,\n",
    "    s = 2,\n",
    "    ax = axs[0])\n",
    "\n",
    "\n",
    "# plot tumor spatial scatterplot\n",
    "sns.scatterplot(\n",
    "    x = tumor_ndf_spatial['y'], \n",
    "    y = tumor_ndf_spatial['x'], \n",
    "    color = 'grey',\n",
    "    linewidth = 0,\n",
    "    s = 2,\n",
    "    ax = axs[1])\n",
    "\n",
    "sns.scatterplot(\n",
    "    x = tumor_ndf_spatial[tumor_ndf_spatial['kmeans'].astype(str) == '7']['y'], \n",
    "    y = tumor_ndf_spatial[tumor_ndf_spatial['kmeans'].astype(str) == '7']['x'], \n",
    "    color = 'orange',\n",
    "    linewidth = 0,\n",
    "    s = 2,\n",
    "    ax = axs[1])\n",
    "\n",
    "for ax in axs:\n",
    "    ax.tick_params(left = False, right = False , labelleft = False, labelbottom = False, bottom = False) \n",
    "    ax.invert_xaxis()\n",
    "    ax.set_aspect('equal')\n",
    "    ax.set_ylabel('')\n",
    "    ax.set_xlabel('')\n",
    "\n",
    "axs[0].set_title('Slide 1')\n",
    "axs[1].set_title('Slide 2')\n",
    "\n",
    "other = Line2D([0], [0], label='Other', marker='o', markersize=10, \n",
    "         markeredgecolor='k', markerfacecolor='gray', linestyle='')\n",
    "\n",
    "rcn7 = Line2D([0], [0], label='RCN 7', marker='o', markersize=10, \n",
    "         markeredgecolor='k', markerfacecolor='orange', linestyle='')\n",
    "\n",
    "plt.legend(handles=[rcn7, other])\n",
    "sns.move_legend(ax, loc = 'upper left', bbox_to_anchor = (1,1))\n",
    "plt.tight_layout()\n",
    "plt.savefig('Figure_4G.png', dpi = 500)"
   ]
  }
 ],
 "metadata": {
  "kernelspec": {
   "display_name": "Python 3",
   "language": "python",
   "name": "python3"
  },
  "language_info": {
   "codemirror_mode": {
    "name": "ipython",
    "version": 3
   },
   "file_extension": ".py",
   "mimetype": "text/x-python",
   "name": "python",
   "nbconvert_exporter": "python",
   "pygments_lexer": "ipython3",
   "version": "3.9.11"
  }
 },
 "nbformat": 4,
 "nbformat_minor": 2
}
