{
 "cells": [
  {
   "cell_type": "code",
   "execution_count": null,
   "metadata": {},
   "outputs": [],
   "source": [
    "#### ---------\n",
    "#### use scanpy.yml environment\n",
    "#### ----------\n",
    "\n",
    "import os \n",
    "import re\n",
    "import pandas as pd\n",
    "import seaborn as sns\n",
    "import matplotlib.pyplot as plt\n",
    "from matplotlib.patches import Patch\n",
    "import matplotlib.gridspec"
   ]
  },
  {
   "cell_type": "code",
   "execution_count": null,
   "metadata": {},
   "outputs": [],
   "source": [
    "# define cell type colors for consistency across plots \n",
    "cell_type_colors = {\n",
    "    'Epithelial' : '#d60000', \n",
    "    'Basal Epithelial' : '#8c3bff', \n",
    "    'Proliferative Epithelial' : '#018700',\n",
    "    'Proliferative Basal Epithelial' : '#00acc6', \n",
    "    'Myoepithelial' : '#97ff00', \n",
    "    'Stroma' : '#ff7ed1', \n",
    "    'Endothelial' : '#6b004f',\n",
    "    'aSMA+ Stroma' : '#ffa52f', \n",
    "    'B-cells' : '#00009c',\n",
    "    'T-cells' : '#857067', \n",
    "    'CD8+ T-cells' : '#004942', \n",
    "    'CD4+ T-cells' : '#4f2a00',\n",
    "    'Regulatory T-cells' : '#00fdcf', \n",
    "    'Macrophages' : '#bcb6ff',\n",
    "    'CD163+ Macrophages' : '#95b379'   \n",
    "}"
   ]
  },
  {
   "cell_type": "code",
   "execution_count": null,
   "metadata": {},
   "outputs": [],
   "source": [
    "# read data \n",
    "df = pd.read_csv('data/E06_tracked_indiv_leiden.csv')\n",
    "\n",
    "# read annotations and turn into a dictionary with leiden clusters as keys \n",
    "annotation_df = pd.read_csv(f'annotations/E06_tracked_annotations.csv')\n",
    "annotation_map = pd.Series(annotation_df.cell_type_refined.values, index = annotation_df.cluster).to_dict()"
   ]
  },
  {
   "cell_type": "code",
   "execution_count": null,
   "metadata": {},
   "outputs": [],
   "source": [
    "# columns to subset by: lineage markers from both panels and leiden column\n",
    "cols = ['tumor_CD3', 'tumor_Vimentin', 'tumor_aSMA',\n",
    " 'tumor_Ecad', 'tumor_Ki67', 'tumor_CD45', 'tumor_CK14',\n",
    " 'tumor_CK19', 'tumor_CK17', 'tumor_PCNA', \n",
    " 'tumor_PanCK', 'tumor_CD31', 'immune_CD3', \n",
    " 'immune_GRZB', 'immune_Ki67', 'immune_PanCK', \n",
    " 'immune_CD45', 'immune_CD68', 'immune_CD3d', \n",
    " 'immune_CD8a', 'immune_CD163','immune_aSMA', \n",
    " 'immune_CD14', 'immune_CD4', 'immune_FOXP3',\n",
    " 'immune_CD11b','immune_CD20','immune_MHC_II_DPB1',\n",
    " 'leiden']"
   ]
  },
  {
   "cell_type": "code",
   "execution_count": null,
   "metadata": {},
   "outputs": [],
   "source": [
    "# calculate mean marker intensity by leiden cluster and map the cell type annotations \n",
    "df = df[cols]\n",
    "df = df.groupby('leiden').mean()\n",
    "obs = df.reset_index()[['leiden']]\n",
    "obs['cell_type_tracked'] = obs['leiden'].map(annotation_map)\n",
    "\n",
    "# map colors to cell types \n",
    "obs['Cell Type'] = obs['cell_type_tracked'].map(cell_type_colors)"
   ]
  },
  {
   "cell_type": "code",
   "execution_count": null,
   "metadata": {},
   "outputs": [],
   "source": [
    "# clean up a couple marker names \n",
    "df.columns = ['tumor_CD3', 'tumor_Vimentin', 'tumor_aSMA', 'tumor_Ecad', 'tumor_Ki67',\n",
    "       'tumor_CD45', 'tumor_CK14', 'tumor_CK19', 'tumor_CK17', 'tumor_PCNA',\n",
    "       'tumor_PanCK', 'tumor_CD31', 'immune_CD3', 'immune_GRZB', 'immune_Ki67',\n",
    "       'immune_PanCK', 'immune_CD45', 'immune_CD68', 'immune_CD3d',\n",
    "       'immune_CD8a', 'immune_CD163', 'immune_aSMA', 'immune_CD14',\n",
    "       'immune_CD4', 'immune_FOXP3', 'immune_CD11b', 'immune_CD20',\n",
    "       'immune_MHCII-DPB1']"
   ]
  },
  {
   "cell_type": "code",
   "execution_count": null,
   "metadata": {},
   "outputs": [],
   "source": [
    "## --------------------- main clustermap \n",
    "g = sns.clustermap(\n",
    "    df, \n",
    "    z_score=1, \n",
    "    cmap = 'Spectral_r', \n",
    "    vmin = -2, \n",
    "    vmax = 2,\n",
    "    row_colors = obs['Cell Type'],\n",
    "    figsize=(8,8))\n",
    "\n",
    "g.fig.set_facecolor('white')\n",
    "\n",
    "# make room for legends/colorbar \n",
    "g.gs.update(left=0.01, right=0.8)\n",
    "\n",
    "## --------------------- update axis labels to show panel by fontface \n",
    "ax = g.ax_heatmap\n",
    "labels = ax.get_xticklabels()\n",
    "for label in labels:\n",
    "    if 'tumor_' in label.get_text():\n",
    "        label.set_fontweight('bold')\n",
    "    \n",
    "    label.set_text(re.split('_', label.get_text())[-1])\n",
    "\n",
    "ax.set_xticklabels(labels)\n",
    "ax.set_ylabel('Cluster',size = 12)\n",
    "\n",
    "## --------------------- create a legend for panel marker specification \n",
    "text = r\"$\\bf{Tumor}$\" + \" \" + r\"$\\bf{Panel}$\" + \"\\n\" + \"Immune Panel\"\n",
    "props = dict(facecolor='white', alpha=1)\n",
    "# ax.text(1, 1, text, fontsize = 11, verticalalignment='top', bbox=props)\n",
    "plt.gcf().text(0.85, 0.14, text, fontsize=11, bbox=props)\n",
    "\n",
    "## --------------------- move the colorbar \n",
    "# g.cax.set_visible(False)\n",
    "g.ax_cbar.set_aspect(1)\n",
    "cax = g.ax_cbar\n",
    "box = cax.get_position()\n",
    "box.x0 = box.x0 + 0.8\n",
    "box.x1 = box.x1 + 0.8\n",
    "box.y0 = box.y0 - 0.6\n",
    "box.y1 = box.y1 - 0.6\n",
    "box = cax.set_position(box)\n",
    "g.ax_cbar.set_ylabel(\"z-score intensity\",size=12)\n",
    "\n",
    "plt.savefig('Figure_4C.png', dpi = 500)"
   ]
  }
 ],
 "metadata": {
  "kernelspec": {
   "display_name": "Python 3",
   "language": "python",
   "name": "python3"
  },
  "language_info": {
   "codemirror_mode": {
    "name": "ipython",
    "version": 3
   },
   "file_extension": ".py",
   "mimetype": "text/x-python",
   "name": "python",
   "nbconvert_exporter": "python",
   "pygments_lexer": "ipython3",
   "version": "3.9.11"
  }
 },
 "nbformat": 4,
 "nbformat_minor": 2
}
