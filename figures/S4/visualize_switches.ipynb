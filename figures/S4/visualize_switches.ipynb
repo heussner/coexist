{
 "cells": [
  {
   "cell_type": "code",
   "execution_count": null,
   "metadata": {},
   "outputs": [],
   "source": [
    "import os\n",
    "import re \n",
    "import numpy as np \n",
    "import pandas as pd \n",
    "import anndata as ad \n",
    "import scanpy as sc \n",
    "import seaborn as sns\n",
    "import matplotlib.pyplot as plt \n",
    "from sklearn.neighbors import KNeighborsClassifier"
   ]
  },
  {
   "cell_type": "code",
   "execution_count": null,
   "metadata": {},
   "outputs": [],
   "source": [
    "## read data and map cell type annotations to Leiden clusters for each panel \n",
    "panels = ['immune','tumor','tracked']\n",
    "panel_df_dict = {}\n",
    "\n",
    "for p in panels:\n",
    "\n",
    "    # read annotations and turn into a dictionary with leiden clusters as keys \n",
    "    annotation_df = pd.read_csv(f'annotations/E06_{p}_annotations.csv')\n",
    "    annotation_map = pd.Series(annotation_df.cell_type_refined.values, index = annotation_df.cluster).to_dict()\n",
    "\n",
    "    # read leiden clustered data\n",
    "    df = pd.read_csv(f'data/E06_{p}_indiv_leiden.csv')\n",
    "\n",
    "    # map cell types using the annotation dict \n",
    "    df[f'cell_type_{p}'] = df['leiden'].map(annotation_map)\n",
    "\n",
    "    # save df in dict with panel as key\n",
    "    panel_df_dict[p] = df"
   ]
  },
  {
   "cell_type": "code",
   "execution_count": null,
   "metadata": {},
   "outputs": [],
   "source": [
    "## merge immune and tumor cell types into the tracked dataframe \n",
    "# prep for merging with tracked data\n",
    "immune = panel_df_dict['immune'][['CellID','cell_type_immune']]\n",
    "tumor = panel_df_dict['tumor'][['CellID','cell_type_tumor']]\n",
    "\n",
    "# merge cluster assignments across panels \n",
    "E06_tracked = pd.merge(panel_df_dict['tracked'], immune, left_on = 'immune_CellID', right_on = 'CellID')\n",
    "E06_tracked = pd.merge(E06_tracked, tumor, left_on = 'tumor_CellID', right_on = 'CellID')\n",
    "\n",
    "E06_immune = panel_df_dict['E06']['immune']\n",
    "E06_tumor = panel_df_dict['E06']['tumor']\n",
    "\n",
    "switched_cells_tracked = E06_tracked[(E06_tracked.cell_type_tumor == 'aSMA+ Stroma') &\n",
    "            (E06_tracked.cell_type_tracked == 'Macrophages') &\n",
    "            (E06_tracked.cell_type_immune == 'Macrophages')]\n",
    "\n",
    "\n",
    "switched_cells_immune = E06_immune[E06_immune['CellID'].isin(list(switched_cells_tracked.immune_CellID))]\n",
    "switched_cells_tumor = E06_tumor[E06_tumor['CellID'].isin(list(switched_cells_tracked.tumor_CellID))]"
   ]
  },
  {
   "cell_type": "code",
   "execution_count": null,
   "metadata": {},
   "outputs": [],
   "source": [
    "print(len(switched_cells_tracked), len(switched_cells_immune), len(switched_cells_tumor))"
   ]
  },
  {
   "cell_type": "code",
   "execution_count": null,
   "metadata": {},
   "outputs": [],
   "source": [
    "adata = ad.AnnData(X = E06_tumor[tumor_markers], obs = E06_tumor[['CellID']])\n",
    "adata.obs['switched_ID'] = np.where(adata.obs.CellID.isin(list(switched_cells_tracked.tumor_CellID)), 'switched', 'other')\n",
    "sc.tl.rank_genes_groups(adata, groupby='switched_ID')\n",
    "tumor_switch_ranks = sc.get.rank_genes_groups_df(adata, group=['switched'])\n",
    "# sc.pl.rank_genes_groups(adata, groups = ['switched'], save = 'tumor_switch.png')"
   ]
  },
  {
   "cell_type": "code",
   "execution_count": null,
   "metadata": {},
   "outputs": [],
   "source": [
    "# fig,ax = plt.subplots(1,2)\n",
    "\n",
    "adata = ad.AnnData(X = E06_immune[immune_markers], obs = E06_immune[['CellID']])\n",
    "adata.obs['switched_ID'] = np.where(adata.obs.CellID.isin(list(switched_cells_tracked.immune_CellID)), 'switched', 'other')\n",
    "sc.tl.rank_genes_groups(adata, groupby='switched_ID')\n",
    "immune_switch_ranks = sc.get.rank_genes_groups_df(adata, group=['switched'])\n",
    "# fig = sc.pl.rank_genes_groups(adata, groups = ['switched'],save = 'immune_switch.png')"
   ]
  },
  {
   "cell_type": "code",
   "execution_count": null,
   "metadata": {},
   "outputs": [],
   "source": [
    "tracked_markers = ['tumor_CD3', 'tumor_Vimentin', 'tumor_aSMA',\n",
    " 'tumor_Ecad', 'tumor_Ki67', 'tumor_CD45', 'tumor_CK14',\n",
    " 'tumor_CK19', 'tumor_CK17', 'tumor_PCNA', \n",
    " 'tumor_PanCK', 'tumor_CD31', 'immune_CD3', \n",
    " 'immune_GRZB', 'immune_Ki67', 'immune_PanCK', \n",
    " 'immune_CD45', 'immune_CD68', 'immune_CD3d', \n",
    " 'immune_CD8a', 'immune_CD163','immune_aSMA', \n",
    " 'immune_CD14', 'immune_CD4', 'immune_FOXP3',\n",
    " 'immune_CD11b','immune_CD20','immune_MHC_II_DPB1']\n",
    "\n",
    "E06_tracked = E06_tracked.reset_index()\n",
    "adata = ad.AnnData(X = E06_tracked[tracked_markers], obs = E06_tracked[['CellID_x']])\n",
    "adata.obs['switched_ID'] = np.where(adata.obs.CellID_x.isin(list(switched_cells_tracked.CellID_x)), 'switched', 'other')\n",
    "sc.tl.rank_genes_groups(adata, groupby='switched_ID')\n",
    "tracked_switch_ranks = sc.get.rank_genes_groups_df(adata, group=['switched'])\n",
    "# sc.pl.rank_genes_groups(adata, groups = ['switched'], save = 'tracked_switch.png')"
   ]
  },
  {
   "cell_type": "code",
   "execution_count": null,
   "metadata": {},
   "outputs": [],
   "source": [
    "tumor_switch_ranks['panel'] = 'Tumor'\n",
    "immune_switch_ranks['panel'] = 'Immune'\n",
    "tracked_switch_ranks['panel'] = 'Combined'\n",
    "\n",
    "tumor_switch_ranks['rank'] = tumor_switch_ranks.index\n",
    "immune_switch_ranks['rank'] = immune_switch_ranks.index\n",
    "tracked_switch_ranks['rank'] = tracked_switch_ranks.index\n",
    "\n",
    "tumor_switch_ranks['marker_origin'] = 'tumor'\n",
    "immune_switch_ranks['marker_origin'] = 'immune'\n",
    "tracked_switch_ranks['marker_origin'] = [re.split('_', x)[0] for x in list(tracked_switch_ranks['names'])]\n",
    "tracked_switch_ranks['names'] = [re.split('_', x)[1] for x in list(tracked_switch_ranks['names'])]\n",
    "\n",
    "merged = pd.concat([tumor_switch_ranks, immune_switch_ranks, tracked_switch_ranks])\n",
    "\n",
    "merged['names'] = merged['names'].replace('MHC','MHC_II_DPB1')"
   ]
  },
  {
   "cell_type": "code",
   "execution_count": null,
   "metadata": {},
   "outputs": [],
   "source": [
    "merged.to_csv('E06_aSMA_Macrophage_ID_switch_ranks.csv', index = False)"
   ]
  },
  {
   "cell_type": "code",
   "execution_count": null,
   "metadata": {},
   "outputs": [],
   "source": [
    "merged"
   ]
  },
  {
   "cell_type": "code",
   "execution_count": null,
   "metadata": {},
   "outputs": [],
   "source": []
  }
 ],
 "metadata": {
  "kernelspec": {
   "display_name": "Python 3",
   "language": "python",
   "name": "python3"
  },
  "language_info": {
   "codemirror_mode": {
    "name": "ipython",
    "version": 3
   },
   "file_extension": ".py",
   "mimetype": "text/x-python",
   "name": "python",
   "nbconvert_exporter": "python",
   "pygments_lexer": "ipython3",
   "version": "3.9.11"
  }
 },
 "nbformat": 4,
 "nbformat_minor": 2
}
