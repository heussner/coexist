{
 "cells": [
  {
   "cell_type": "code",
   "execution_count": 1,
   "metadata": {},
   "outputs": [],
   "source": [
    "#### ---------\n",
    "#### Use the scanpy.yml environment\n",
    "#### ---------\n",
    "import os \n",
    "import pandas as pd"
   ]
  },
  {
   "cell_type": "code",
   "execution_count": 2,
   "metadata": {},
   "outputs": [],
   "source": [
    "## read data and map cell type annotations to Leiden clusters for each panel \n",
    "panels = ['immune','tumor','tracked']\n",
    "panel_df_dict = {}\n",
    "\n",
    "for p in panels:\n",
    "\n",
    "    # read annotations and turn into a dictionary with leiden clusters as keys \n",
    "    annotation_df = pd.read_csv(f'annotations/E06_{p}_annotations.csv')\n",
    "    annotation_map = pd.Series(annotation_df.cell_type_refined.values, index = annotation_df.cluster).to_dict()\n",
    "\n",
    "    # read leiden clustered data\n",
    "    df = pd.read_csv(f'data/E06_{p}_indiv_leiden.csv')\n",
    "\n",
    "    # map cell types using the annotation dict \n",
    "    df[f'cell_type_{p}'] = df['leiden'].map(annotation_map)\n",
    "\n",
    "    # save df in dict with panel as key\n",
    "    panel_df_dict[p] = df"
   ]
  },
  {
   "cell_type": "code",
   "execution_count": 3,
   "metadata": {},
   "outputs": [],
   "source": [
    "## merge immune and tumor cell types into the tracked dataframe \n",
    "# prep for merging with tracked data\n",
    "immune = panel_df_dict['immune'][['CellID','cell_type_immune']]\n",
    "tumor = panel_df_dict['tumor'][['CellID','cell_type_tumor']]\n",
    "\n",
    "# merge cluster assignments across panels \n",
    "tracked = pd.merge(panel_df_dict['tracked'], immune, left_on = 'immune_CellID', right_on = 'CellID')\n",
    "tracked = pd.merge(tracked, tumor, left_on = 'tumor_CellID', right_on = 'CellID')"
   ]
  },
  {
   "cell_type": "code",
   "execution_count": 4,
   "metadata": {},
   "outputs": [],
   "source": [
    "# wrangle into a format that ggalluvial can handle (frequency table)\n",
    "tracked = tracked[['cell_type_tumor','cell_type_tracked','cell_type_immune']]\n",
    "tracked.columns = ['Tumor', 'Combined','Immune']\n",
    "tracked = pd.DataFrame(tracked.value_counts(['Tumor', 'Combined','Immune'])).reset_index()\n",
    "\n",
    "# reset again to give ggalluvial a subject \n",
    "tracked = tracked.reset_index()\n",
    "tracked.columns = ['subject','Tumor', 'Combined','Immune', 'frequency']\n",
    "\n",
    "# wide to long \n",
    "tracked_melt = tracked.melt(id_vars=['subject','frequency'])\n",
    "tracked_melt.columns = ['subject', 'frequency', 'panel', 'cell_type']"
   ]
  },
  {
   "cell_type": "code",
   "execution_count": 6,
   "metadata": {},
   "outputs": [],
   "source": [
    "tracked_melt.to_csv('data/E06_alluvial_input.csv')"
   ]
  }
 ],
 "metadata": {
  "kernelspec": {
   "display_name": "Python 3",
   "language": "python",
   "name": "python3"
  },
  "language_info": {
   "codemirror_mode": {
    "name": "ipython",
    "version": 3
   },
   "file_extension": ".py",
   "mimetype": "text/x-python",
   "name": "python",
   "nbconvert_exporter": "python",
   "pygments_lexer": "ipython3",
   "version": "3.9.11"
  }
 },
 "nbformat": 4,
 "nbformat_minor": 2
}
