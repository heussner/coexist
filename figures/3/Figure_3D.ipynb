{
 "cells": [
  {
   "cell_type": "code",
   "execution_count": null,
   "metadata": {},
   "outputs": [],
   "source": [
    "#### ------------------------------------------------------------------------------------\n",
    "#### Use scanpy.yml environment\n",
    "#### If looking to propagate labels for a larger dataset, \n",
    "#### see <link to Chris' RAPIDS notebook> for GPU implementation of KNN label propagation\n",
    "#### -------------------------------------------------------------------------------------\n",
    "\n",
    "import os\n",
    "import re \n",
    "import numpy as np \n",
    "import pandas as pd \n",
    "import seaborn as sns\n",
    "import matplotlib.pyplot as plt \n",
    "from sklearn.neighbors import KNeighborsClassifier"
   ]
  },
  {
   "cell_type": "markdown",
   "metadata": {},
   "source": [
    "### Propagating tracked labels to untracked cells on the immune panel"
   ]
  },
  {
   "cell_type": "code",
   "execution_count": null,
   "metadata": {},
   "outputs": [],
   "source": [
    "## inputs \n",
    "# spatial coords \n",
    "immune_spatial = pd.read_csv('data/E06_immune_spatial.csv')\n",
    "\n",
    "# cell type annotations \n",
    "immune_annots_df = pd.read_csv(f'annotations/E06_immune_annotations.csv')\n",
    "immune_annots_map = pd.Series(immune_annots_df.cell_type_refined.values, index = immune_annots_df.cluster).to_dict()\n",
    "\n",
    "tracked_annots_df = pd.read_csv(f'annotations/E06_tracked_annotations.csv')\n",
    "tracked_annots_map = pd.Series(tracked_annots_df.cell_type_refined.values, index = tracked_annots_df.cluster).to_dict()\n",
    "\n",
    "# data files\n",
    "immune = pd.read_csv('data/E06_immune_indiv_leiden.csv')\n",
    "tracked = pd.read_csv('data/E06_tracked_indiv_leiden.csv')"
   ]
  },
  {
   "cell_type": "code",
   "execution_count": null,
   "metadata": {},
   "outputs": [],
   "source": [
    "# map cell types to leiden clusters \n",
    "immune['cell_type_immune'] = immune['leiden'].map(immune_annots_map)\n",
    "tracked['cell_type_tracked'] = tracked['leiden'].map(tracked_annots_map)\n",
    "\n",
    "# merge cluster assignments from immune panels into tracked data \n",
    "tracked = pd.merge(tracked, immune[['CellID','cell_type_immune']], left_on = 'immune_CellID', right_on = 'CellID')\n",
    "\n",
    "# merge spatial coords into immune dataframe \n",
    "immune = pd.merge(immune, immune_spatial, on = 'CellID')\n",
    "\n",
    "# set CellID as index \n",
    "immune_sub = immune.set_index('CellID')\n",
    "\n",
    "# subset to markers\n",
    "immune_markers = ['CD3', 'GRZB', 'Ki67', 'PanCK', 'CD45', 'CD68', 'CD3d', 'CD8a',\n",
    "       'CD163', 'aSMA', 'CD14', 'CD4', 'FOXP3', 'CD11b', 'CD20', 'MHC_II_DPB1']\n",
    "\n",
    "immune_sub = immune_sub[immune_markers]"
   ]
  },
  {
   "cell_type": "code",
   "execution_count": null,
   "metadata": {},
   "outputs": [],
   "source": [
    "# split into tracked and untracked \n",
    "immune_tracked = immune_sub[immune_sub.index.isin(tracked['immune_CellID'])]\n",
    "immune_untracked = immune_sub[~immune_sub.index.isin(tracked['immune_CellID'])]\n",
    "\n",
    "# grab the labels to train on from the labeled annotations \n",
    "label_df = pd.merge(\n",
    "    immune_tracked, \n",
    "    tracked[['immune_CellID','cell_type_tracked']],\n",
    "    left_index = True,\n",
    "    right_on = 'immune_CellID')\n",
    "\n",
    "labs = label_df['cell_type_tracked']\n",
    "\n",
    "# train, fit, predict KNN \n",
    "model = KNeighborsClassifier(n_neighbors=10)\n",
    "model.fit(immune_tracked, labs)\n",
    "y_hat = model.predict(immune_untracked)\n",
    "\n",
    "# assign predicted labels \n",
    "immune_tracked['cross_cluster'] = list(labs)\n",
    "immune_untracked['cross_cluster'] = list(y_hat)\n",
    "\n",
    "# recombined tracked and untracked cells \n",
    "recombined_df = pd.concat([immune_tracked, immune_untracked])\n",
    "\n",
    "# merge with spatial \n",
    "recombined_df.reset_index()\n",
    "recombined_df = pd.merge(recombined_df, immune_spatial, on = 'CellID')\n",
    "\n",
    "# merge immune cell type into recombined_df \n",
    "recombined_df = pd.merge(recombined_df, immune[['CellID','cell_type_immune']], on = 'CellID')"
   ]
  },
  {
   "cell_type": "code",
   "execution_count": null,
   "metadata": {},
   "outputs": [],
   "source": [
    "recombined_df.to_csv('data/E06_immune_label_propagated_spatial.csv', index = False)"
   ]
  },
  {
   "cell_type": "markdown",
   "metadata": {},
   "source": [
    "### Propagating tracked labels to untracked cells on the tumor panel"
   ]
  },
  {
   "cell_type": "code",
   "execution_count": null,
   "metadata": {},
   "outputs": [],
   "source": [
    "## inputs \n",
    "# spatial coords \n",
    "tumor_spatial = pd.read_csv('data/E06_tumor_spatial.csv')\n",
    "\n",
    "# cell type annotations \n",
    "tumor_annots_df = pd.read_csv(f'annotations/E06_tumor_annotations.csv')\n",
    "tumor_annots_map = pd.Series(tumor_annots_df.cell_type_refined.values, index = tumor_annots_df.cluster).to_dict()\n",
    "\n",
    "tracked_annots_df = pd.read_csv(f'annotations/E06_tracked_annotations.csv')\n",
    "tracked_annots_map = pd.Series(tracked_annots_df.cell_type_refined.values, index = tracked_annots_df.cluster).to_dict()\n",
    "\n",
    "# data files\n",
    "tumor = pd.read_csv('data/E06_tumor_indiv_leiden.csv')\n",
    "tracked = pd.read_csv('data/E06_tracked_indiv_leiden.csv')"
   ]
  },
  {
   "cell_type": "code",
   "execution_count": null,
   "metadata": {},
   "outputs": [],
   "source": [
    "# map cell types to leiden clusters \n",
    "tumor['cell_type_tumor'] = tumor['leiden'].map(tumor_annots_map)\n",
    "tracked['cell_type_tracked'] = tracked['leiden'].map(tracked_annots_map)\n",
    "\n",
    "# merge cluster assignments from tumor panels into tracked data \n",
    "tracked = pd.merge(tracked, tumor[['CellID','cell_type_tumor']], left_on = 'tumor_CellID', right_on = 'CellID')\n",
    "\n",
    "# merge spatial coords into tumor dataframe \n",
    "tumor = pd.merge(tumor, tumor_spatial, on = 'CellID')\n",
    "\n",
    "# set CellID as index \n",
    "tumor_sub = tumor.set_index('CellID')\n",
    "\n",
    "# subset to markers\n",
    "tumor_markers = ['CD3',  'Vimentin', 'aSMA', 'Ecad', 'Ki67', 'CD45', \n",
    "           'CK14', 'CK19', 'CK17', 'PCNA', 'PanCK', 'CD31']\n",
    "\n",
    "tumor_sub = tumor_sub[tumor_markers]"
   ]
  },
  {
   "cell_type": "code",
   "execution_count": null,
   "metadata": {},
   "outputs": [],
   "source": [
    "# split into tracked and untracked \n",
    "tumor_tracked = tumor_sub[tumor_sub.index.isin(tracked['tumor_CellID'])]\n",
    "tumor_untracked = tumor_sub[~tumor_sub.index.isin(tracked['tumor_CellID'])]\n",
    "\n",
    "# grab the labels to train on from the labeled annotations \n",
    "label_df = pd.merge(\n",
    "    tumor_tracked, \n",
    "    tracked[['tumor_CellID','cell_type_tracked']],\n",
    "    left_index = True,\n",
    "    right_on = 'tumor_CellID')\n",
    "\n",
    "labs = label_df['cell_type_tracked']\n",
    "\n",
    "# train, fit, predict KNN \n",
    "model = KNeighborsClassifier(n_neighbors=10)\n",
    "model.fit(tumor_tracked, labs)\n",
    "y_hat = model.predict(tumor_untracked)\n",
    "\n",
    "# assign predicted labels \n",
    "tumor_tracked['cross_cluster'] = list(labs)\n",
    "tumor_untracked['cross_cluster'] = list(y_hat)\n",
    "\n",
    "# recombined tracked and untracked cells \n",
    "recombined_df = pd.concat([tumor_tracked, tumor_untracked])\n",
    "\n",
    "# merge with spatial \n",
    "recombined_df.reset_index()\n",
    "recombined_df = pd.merge(recombined_df, tumor_spatial, on = 'CellID')\n",
    "\n",
    "# merge tumor cell type into recombined_df \n",
    "recombined_df = pd.merge(recombined_df, tumor[['CellID','cell_type_tumor']], on = 'CellID')"
   ]
  },
  {
   "cell_type": "code",
   "execution_count": null,
   "metadata": {},
   "outputs": [],
   "source": [
    "recombined_df.to_csv('data/E06_tumor_label_propagated_spatial.csv', index = False)"
   ]
  },
  {
   "cell_type": "markdown",
   "metadata": {},
   "source": [
    "### Create spatial scatter plots of pre- and post-label propagation (Figure 3D)"
   ]
  },
  {
   "cell_type": "code",
   "execution_count": null,
   "metadata": {},
   "outputs": [],
   "source": [
    "# cell type colors for consistency across figures \n",
    "cell_type_colors = {\n",
    "    'Epithelial' : '#d60000', \n",
    "    'Basal Epithelial' : '#8c3bff', \n",
    "    'Proliferative Epithelial' : '#018700',\n",
    "    'Proliferative Basal Epithelial' : '#00acc6', \n",
    "    'Myoepithelial' : '#97ff00', \n",
    "    'Stroma' : '#ff7ed1', \n",
    "    'Endothelial' : '#6b004f',\n",
    "    'aSMA+ Stroma' : '#ffa52f', \n",
    "    'B-cells' : '#00009c',\n",
    "    'T-cells' : '#857067', \n",
    "    'CD8+ T-cells' : '#004942', \n",
    "    'CD4+ T-cells' : '#4f2a00',\n",
    "    'Regulatory T-cells' : '#00fdcf', \n",
    "    'Macrophages' : '#bcb6ff',\n",
    "    'CD163+ Macrophages' : '#95b379'   \n",
    "}"
   ]
  },
  {
   "cell_type": "code",
   "execution_count": null,
   "metadata": {},
   "outputs": [],
   "source": [
    "immune = pd.read_csv('data/E06_immune_label_propagated_spatial.csv')\n",
    "tumor = pd.read_csv('data/E06_tumor_label_propagated_spatial.csv')"
   ]
  },
  {
   "cell_type": "code",
   "execution_count": null,
   "metadata": {},
   "outputs": [],
   "source": [
    "immune.columns = ['CellID', 'CD3', 'GRZB', 'Ki67', 'PanCK', 'CD45', 'CD68', 'CD3d',\n",
    "       'CD8a', 'CD163', 'aSMA', 'CD14', 'CD4', 'FOXP3', 'CD11b', 'CD20',\n",
    "       'MHC_II_DPB1', 'cross_cluster', 'x', 'y', 'cell_type_individual']"
   ]
  },
  {
   "cell_type": "code",
   "execution_count": null,
   "metadata": {},
   "outputs": [],
   "source": [
    "tumor.columns = ['CellID', 'CD3', 'Vimentin', 'aSMA', 'Ecad', 'Ki67', 'CD45', 'CK14',\n",
    "       'CK19', 'CK17', 'PCNA', 'PanCK', 'CD31', 'cross_cluster', 'x', 'y',\n",
    "       'cell_type_individual']"
   ]
  },
  {
   "cell_type": "code",
   "execution_count": null,
   "metadata": {},
   "outputs": [],
   "source": [
    "plt.style.use(\"dark_background\")\n",
    "fig,ax = plt.subplots(\n",
    "    ncols=2, \n",
    "    nrows=2, \n",
    "    gridspec_kw={'wspace' : 0.1, 'hspace' : 0.1},\n",
    "    figsize = (8,8))\n",
    "\n",
    "panels = [immune, tumor]\n",
    "labels = ['cell_type_individual','cross_cluster']\n",
    "\n",
    "for i,p in enumerate(panels):\n",
    "    for j,l in enumerate(labels):\n",
    "\n",
    "        sns.scatterplot(\n",
    "            x = p['y'], \n",
    "            y = p['x'], \n",
    "            hue = p[l],\n",
    "            palette = cell_type_colors,\n",
    "            hue_order = list(cell_type_colors.keys()),\n",
    "            linewidth = 0,\n",
    "            s = 2,\n",
    "            ax = ax[j,i])\n",
    "\n",
    "        ax[j,i].invert_xaxis()\n",
    "        # ax[j,i].set_aspect('equal')\n",
    "        ax[j,i].tick_params(left = False, right = False , labelleft = False, labelbottom = False, bottom = False) \n",
    "        ax[j,i].set_ylabel('')\n",
    "        ax[j,i].set_xlabel('')\n",
    "\n",
    "\n",
    "        ax[j,i].get_legend().set_visible(False)\n",
    "\n",
    "\n",
    "ax[0,0].set_title('Slide 1')\n",
    "ax[0,1].set_title('Slide 2')\n",
    "\n",
    "ax[0,0].set_ylabel('Individual Panel')\n",
    "ax[1,0].set_ylabel('Combined Panel')\n",
    "\n",
    "\n",
    "plt.savefig('Figure_3D.png', dpi = 500)"
   ]
  }
 ],
 "metadata": {
  "kernelspec": {
   "display_name": "Python 3",
   "language": "python",
   "name": "python3"
  },
  "language_info": {
   "codemirror_mode": {
    "name": "ipython",
    "version": 3
   },
   "file_extension": ".py",
   "mimetype": "text/x-python",
   "name": "python",
   "nbconvert_exporter": "python",
   "pygments_lexer": "ipython3",
   "version": "3.9.11"
  }
 },
 "nbformat": 4,
 "nbformat_minor": 2
}
