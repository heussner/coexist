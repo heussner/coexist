{
 "cells": [
  {
   "cell_type": "code",
   "execution_count": null,
   "metadata": {},
   "outputs": [],
   "source": [
    "#### -----------\n",
    "#### Use the scanpy.yml environment\n",
    "#### -----------\n",
    "\n",
    "import os\n",
    "import re \n",
    "import numpy as np \n",
    "import pandas as pd \n",
    "import anndata as ad \n",
    "import scanpy as sc \n",
    "import seaborn as sns\n",
    "import matplotlib.pyplot as plt \n",
    "from matplotlib.patches import Patch\n",
    "import plotly.express as px\n",
    "import plotly.graph_objects as go"
   ]
  },
  {
   "cell_type": "code",
   "execution_count": null,
   "metadata": {},
   "outputs": [],
   "source": [
    "# core ID \n",
    "CORE = 'E06'\n",
    "\n",
    "# read input data \n",
    "ddir = '/Users/watsocam/OHSU/analysis/TMA_integation/'\n",
    "metadata = pd.read_csv(os.path.join(ddir,'metadata/metadata_clean.csv'))"
   ]
  },
  {
   "cell_type": "markdown",
   "metadata": {},
   "source": [
    "### Immune panel (all)"
   ]
  },
  {
   "cell_type": "code",
   "execution_count": null,
   "metadata": {},
   "outputs": [],
   "source": [
    "# read input data \n",
    "all_cores_df = pd.read_csv(os.path.join(ddir, 'labeled_tables/immune_all_labeled.csv'))\n",
    "\n",
    "# subset to individual core (E06)\n",
    "df = all_cores_df[all_cores_df['core'] == 'E06']\n",
    "df = df.reset_index(drop=True)\n",
    "print(len(df))\n",
    "print(df.columns)"
   ]
  },
  {
   "cell_type": "code",
   "execution_count": null,
   "metadata": {},
   "outputs": [],
   "source": [
    "# create anndata object \n",
    "obs_cols = ['CellID', 'core', 'DNA_1', 'cluster', 'cross_cluster']\n",
    "var_cols = [x for x in list(df.columns) if x not in obs_cols]\n",
    "adata = ad.AnnData(X = df[var_cols], obs = df[obs_cols])\n",
    "adata.var_names"
   ]
  },
  {
   "cell_type": "code",
   "execution_count": null,
   "metadata": {},
   "outputs": [],
   "source": [
    "# create an anndata with a reduced marker set \n",
    "markers = ['CD3', 'GRZB', 'Ki67', 'PanCK', 'CD45', 'CD68', 'CD3d', 'CD8a',\n",
    "       'CD163', 'aSMA', 'CD14', 'CD4', 'FOXP3', 'CD11b', 'CD20', 'MHC_II_DPB1']\n",
    "       \n",
    "adata_reduced = adata.copy()\n",
    "adata_reduced = adata_reduced[:,markers]"
   ]
  },
  {
   "cell_type": "code",
   "execution_count": null,
   "metadata": {},
   "outputs": [],
   "source": [
    "# run scanpy tools on the reduced marker set data to help assign cell types \n",
    "sc.pp.neighbors(adata_reduced)\n",
    "sc.tl.umap(adata_reduced)\n",
    "sc.tl.leiden(adata_reduced, resolution = 2)"
   ]
  },
  {
   "cell_type": "code",
   "execution_count": null,
   "metadata": {},
   "outputs": [],
   "source": [
    "# generate a heatmap of mean marker intensities by leiden cluster \n",
    "heatmap_df = adata_reduced.to_df()\n",
    "heatmap_df['leiden'] = adata_reduced.obs['leiden']\n",
    "heatmap_df = heatmap_df.groupby('leiden').mean()"
   ]
  },
  {
   "cell_type": "code",
   "execution_count": null,
   "metadata": {},
   "outputs": [],
   "source": [
    "g = sns.clustermap(heatmap_df, z_score=1, cmap = 'Spectral_r', vmin = -2, vmax = 2)\n",
    "g.fig.set_facecolor('white')\n",
    "plt.savefig('figures/E06_immune_heatmap.png', dpi = 500)"
   ]
  },
  {
   "cell_type": "code",
   "execution_count": null,
   "metadata": {},
   "outputs": [],
   "source": [
    "# SAVE STUFF! \n",
    "df['leiden'] = list(adata_reduced.obs['leiden'])\n",
    "df.to_csv('data/E06_immune_indiv_leiden.csv', index=False)"
   ]
  },
  {
   "cell_type": "markdown",
   "metadata": {},
   "source": [
    "### Tumor panel (all)"
   ]
  },
  {
   "cell_type": "code",
   "execution_count": null,
   "metadata": {},
   "outputs": [],
   "source": [
    "# read input data \n",
    "all_cores_df = pd.read_csv(os.path.join(ddir, 'labeled_tables/tumor_all_labeled.csv'))\n",
    "\n",
    "# subset to individual core (E06)\n",
    "df = all_cores_df[all_cores_df['core'] == 'E06']\n",
    "df = df.reset_index(drop=True)\n",
    "print(len(df))\n",
    "print(df.columns)"
   ]
  },
  {
   "cell_type": "code",
   "execution_count": null,
   "metadata": {},
   "outputs": [],
   "source": [
    "# create anndata object \n",
    "obs_cols = ['CellID', 'core', 'DNA_1', 'cluster', 'cross_cluster']\n",
    "var_cols = [x for x in list(df.columns) if x not in obs_cols]\n",
    "adata = ad.AnnData(X = df[var_cols], obs = df[obs_cols])\n",
    "adata.var_names"
   ]
  },
  {
   "cell_type": "code",
   "execution_count": null,
   "metadata": {},
   "outputs": [],
   "source": [
    "# create an anndata with a reduced marker set \n",
    "markers = ['CD3',  'Vimentin', 'aSMA', 'Ecad', 'Ki67', 'CD45', \n",
    "           'CK14', 'CK19', 'CK17', 'PCNA', 'PanCK', 'CD31']\n",
    "       \n",
    "adata_reduced = adata.copy()\n",
    "adata_reduced = adata_reduced[:,markers]"
   ]
  },
  {
   "cell_type": "code",
   "execution_count": null,
   "metadata": {},
   "outputs": [],
   "source": [
    "# run scanpy tools on the reduced marker set data to help assign cell types \n",
    "sc.pp.neighbors(adata_reduced)\n",
    "sc.tl.umap(adata_reduced)\n",
    "sc.tl.leiden(adata_reduced, resolution = 2)"
   ]
  },
  {
   "cell_type": "code",
   "execution_count": null,
   "metadata": {},
   "outputs": [],
   "source": [
    "# generate a heatmap of mean marker intensities by leiden cluster \n",
    "heatmap_df = adata_reduced.to_df()\n",
    "heatmap_df['leiden'] = adata_reduced.obs['leiden']\n",
    "heatmap_df = heatmap_df.groupby('leiden').mean()"
   ]
  },
  {
   "cell_type": "code",
   "execution_count": null,
   "metadata": {},
   "outputs": [],
   "source": [
    "g = sns.clustermap(heatmap_df, z_score=1, cmap = 'Spectral_r', vmin = -2, vmax = 2)\n",
    "g.fig.set_facecolor('white')\n",
    "plt.savefig('figures/E06_tumor_heatmap.png', dpi = 500)"
   ]
  },
  {
   "cell_type": "code",
   "execution_count": null,
   "metadata": {},
   "outputs": [],
   "source": [
    "# SAVE STUFF! \n",
    "df['leiden'] = list(adata_reduced.obs['leiden'])\n",
    "df.to_csv('data/E06_tumor_indiv_leiden.csv', index=False)"
   ]
  },
  {
   "cell_type": "markdown",
   "metadata": {},
   "source": [
    "### Tracked cells"
   ]
  },
  {
   "cell_type": "code",
   "execution_count": null,
   "metadata": {},
   "outputs": [],
   "source": [
    "# read input data \n",
    "all_cores_df = pd.read_parquet(os.path.join(ddir, 'labeled_tables/all_tracked_100NN_leiden.parquet'))\n",
    "\n",
    "# subset to individual core (E06)\n",
    "df = all_cores_df[all_cores_df['core'] == 'E06']\n",
    "df = df.reset_index(drop=True)\n",
    "print(len(df))\n",
    "print(df.columns)"
   ]
  },
  {
   "cell_type": "code",
   "execution_count": null,
   "metadata": {},
   "outputs": [],
   "source": [
    "# create anndata object \n",
    "obs_cols = ['tumor_CellID', 'core', 'tumor_DNA_1', \n",
    "            'tumor_cluster', 'immune_CellID', 'immune_DNA_1',\n",
    "            'immune_cluster','combined_cluster']\n",
    "var_cols = [x for x in list(df.columns) if x not in obs_cols]\n",
    "adata = ad.AnnData(X = df[var_cols], obs = df[obs_cols])\n",
    "adata.var_names"
   ]
  },
  {
   "cell_type": "code",
   "execution_count": null,
   "metadata": {},
   "outputs": [],
   "source": [
    "# create an anndata with a reduced marker set \n",
    "\n",
    "# immune \n",
    "# markers = ['CD3', 'GRZB', 'Ki67', 'PanCK', 'CD45', 'CD68', 'CD3d', 'CD8a',\n",
    "#        'CD163', 'aSMA', 'CD14', 'CD4', 'FOXP3', 'CD11b', 'CD20', 'MHC_II_DPB1']\n",
    "\n",
    "# tumor\n",
    "# markers = ['CD3',  'Vimentin', 'aSMA', 'Ecad', 'Ki67', 'CD45', \n",
    "#            'CK14', 'CK19', 'CK17', 'PCNA', 'PanCK', 'CD31']\n",
    "\n",
    "markers = ['tumor_CD3', 'tumor_Vimentin', 'tumor_aSMA', 'tumor_Ecad',\n",
    "           'tumor_Ki67', 'tumor_CD45', 'tumor_CK14', 'tumor_CK19', 'tumor_CK17',\n",
    "           'tumor_PCNA', 'tumor_PanCK', 'tumor_CD31',\n",
    "           'immune_CD3', 'immune_GRZB', 'immune_Ki67',\n",
    "           'immune_PanCK', 'immune_CD45', 'immune_CD68', 'immune_CD3d',\n",
    "           'immune_CD8a', 'immune_CD163', 'immune_aSMA', 'immune_CD14',\n",
    "           'immune_CD4', 'immune_FOXP3', 'immune_CD11b',\n",
    "           'immune_CD20', 'immune_MHC_II_DPB1'\n",
    "]\n",
    "       \n",
    "adata_reduced = adata.copy()\n",
    "adata_reduced = adata_reduced[:,markers]"
   ]
  },
  {
   "cell_type": "code",
   "execution_count": null,
   "metadata": {},
   "outputs": [],
   "source": [
    "# run scanpy tools on the reduced marker set data to help assign cell types \n",
    "sc.pp.neighbors(adata_reduced)\n",
    "sc.tl.umap(adata_reduced)\n",
    "sc.tl.leiden(adata_reduced, resolution = 2)"
   ]
  },
  {
   "cell_type": "code",
   "execution_count": null,
   "metadata": {},
   "outputs": [],
   "source": [
    "# generate a heatmap of mean marker intensities by leiden cluster \n",
    "heatmap_df = adata_reduced.to_df()\n",
    "heatmap_df['leiden'] = adata_reduced.obs['leiden']\n",
    "heatmap_df = heatmap_df.groupby('leiden').mean()"
   ]
  },
  {
   "cell_type": "code",
   "execution_count": null,
   "metadata": {},
   "outputs": [],
   "source": [
    "heatmap_df.to_csv('data/E06_tracked_heatmap_df.csv' ,index=True)"
   ]
  },
  {
   "cell_type": "code",
   "execution_count": null,
   "metadata": {},
   "outputs": [],
   "source": [
    "g = sns.clustermap(heatmap_df, z_score=1, cmap = 'Spectral_r', vmin = -2, vmax = 2)\n",
    "g.fig.set_facecolor('white')\n",
    "plt.savefig('figures/E06_tracked_heatmap.png', dpi = 500)"
   ]
  },
  {
   "cell_type": "code",
   "execution_count": null,
   "metadata": {},
   "outputs": [],
   "source": [
    "# SAVE STUFF! \n",
    "df['leiden'] = list(adata_reduced.obs['leiden'])\n",
    "df.to_csv('data/E06_tracked_indiv_leiden.csv', index=False)"
   ]
  }
 ],
 "metadata": {
  "kernelspec": {
   "display_name": "Python 3",
   "language": "python",
   "name": "python3"
  },
  "language_info": {
   "codemirror_mode": {
    "name": "ipython",
    "version": 3
   },
   "file_extension": ".py",
   "mimetype": "text/x-python",
   "name": "python",
   "nbconvert_exporter": "python",
   "pygments_lexer": "ipython3",
   "version": "3.9.11"
  }
 },
 "nbformat": 4,
 "nbformat_minor": 2
}
